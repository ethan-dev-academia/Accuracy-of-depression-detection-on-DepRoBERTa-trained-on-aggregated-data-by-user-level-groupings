{
 "cells": [
  {
   "cell_type": "code",
   "execution_count": 11,
   "id": "87bdb6c0-fe2d-44bd-a421-dd840f130462",
   "metadata": {},
   "outputs": [
    {
     "name": "stderr",
     "output_type": "stream",
     "text": [
      "Some weights of RobertaModel were not initialized from the model checkpoint at rafalposwiata/deproberta-large-v1 and are newly initialized: ['pooler.dense.bias', 'pooler.dense.weight']\n",
      "You should probably TRAIN this model on a down-stream task to be able to use it for predictions and inference.\n"
     ]
    },
    {
     "name": "stdout",
     "output_type": "stream",
     "text": [
      "text: I can’t focus on anything lately.\n",
      "predicted depression score: 0.3902\n"
     ]
    }
   ],
   "source": [
    "from transformers import AutoTokenizer, AutoModel\n",
    "import torch\n",
    "import torch.nn as nn\n",
    "\n",
    "# Load tokenizer and pretrained DepRoBERTa model\n",
    "model_name = \"rafalposwiata/deproberta-large-v1\"\n",
    "tokenizer = AutoTokenizer.from_pretrained(model_name)\n",
    "backbone = AutoModel.from_pretrained(model_name)\n",
    "\n",
    "# Freeze the base model — we’re not retraining it\n",
    "for param in backbone.parameters():\n",
    "    param.requires_grad = False\n",
    "\n",
    "# Simple predictive head — 1 neuron for regression\n",
    "class DepressionPredictor(nn.Module):\n",
    "    def __init__(self, backbone):\n",
    "        super().__init__()\n",
    "        self.backbone = backbone\n",
    "        hidden_size = backbone.config.hidden_size\n",
    "        self.head = nn.Sequential(\n",
    "            nn.Linear(hidden_size, 256),\n",
    "            nn.ReLU(),\n",
    "            nn.Linear(256, 1),\n",
    "            nn.Sigmoid()  # ensures output between 0 and 1\n",
    "        )\n",
    "\n",
    "    def forward(self, input_ids, attention_mask):\n",
    "        outputs = self.backbone(input_ids=input_ids, attention_mask=attention_mask)\n",
    "        pooled = outputs.last_hidden_state[:, 0]  # [CLS] token representation\n",
    "        return self.head(pooled)\n",
    "\n",
    "# Instantiate model\n",
    "model = DepressionPredictor(backbone)\n",
    "model.eval()\n",
    "\n",
    "# Example prediction\n",
    "text = \"I can’t focus on anything lately.\"\n",
    "inputs = tokenizer(text, return_tensors=\"pt\", truncation=True, padding=True)\n",
    "with torch.no_grad():\n",
    "    score = model(**inputs).item()\n",
    "\n",
    "print(f\"text: {text}\")\n",
    "print(f\"predicted depression score: {score:.4f}\")\n"
   ]
  },
  {
   "cell_type": "raw",
   "id": "7254cf0c-3ce7-4169-97c8-f35bbd66c8e0",
   "metadata": {},
   "source": [
    "This is not right or accurate. Going to dig further (Note from 10:24pm)"
   ]
  },
  {
   "cell_type": "code",
   "execution_count": null,
   "id": "bb23f511-48b4-413f-beab-559815baf933",
   "metadata": {},
   "outputs": [],
   "source": []
  }
 ],
 "metadata": {
  "kernelspec": {
   "display_name": "Python 3 (ipykernel)",
   "language": "python",
   "name": "python3"
  },
  "language_info": {
   "codemirror_mode": {
    "name": "ipython",
    "version": 3
   },
   "file_extension": ".py",
   "mimetype": "text/x-python",
   "name": "python",
   "nbconvert_exporter": "python",
   "pygments_lexer": "ipython3",
   "version": "3.11.9"
  }
 },
 "nbformat": 4,
 "nbformat_minor": 5
}
