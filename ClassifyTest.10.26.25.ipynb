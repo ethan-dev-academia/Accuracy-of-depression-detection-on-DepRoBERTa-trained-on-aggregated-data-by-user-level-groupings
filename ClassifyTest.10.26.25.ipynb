{
 "cells": [
  {
   "cell_type": "code",
   "execution_count": 1,
   "id": "c44afa78-c84c-4545-b94f-87d8e5f09a7d",
   "metadata": {
    "scrolled": true
   },
   "outputs": [
    {
     "name": "stdout",
     "output_type": "stream",
     "text": [
      "Looking in indexes: https://download.pytorch.org/whl/cu121\n",
      "Requirement already satisfied: torch in f:\\processing algorithm\\2025-ml-nlp-research\\deproberta-env\\lib\\site-packages (2.6.0+cu124)\n",
      "Requirement already satisfied: torchvision in f:\\processing algorithm\\2025-ml-nlp-research\\deproberta-env\\lib\\site-packages (0.21.0+cu124)\n",
      "Requirement already satisfied: torchaudio in f:\\processing algorithm\\2025-ml-nlp-research\\deproberta-env\\lib\\site-packages (2.6.0+cu124)\n",
      "Requirement already satisfied: filelock in f:\\processing algorithm\\2025-ml-nlp-research\\deproberta-env\\lib\\site-packages (from torch) (3.19.1)\n",
      "Requirement already satisfied: typing-extensions>=4.10.0 in f:\\processing algorithm\\2025-ml-nlp-research\\deproberta-env\\lib\\site-packages (from torch) (4.15.0)\n",
      "Requirement already satisfied: networkx in f:\\processing algorithm\\2025-ml-nlp-research\\deproberta-env\\lib\\site-packages (from torch) (3.5)\n",
      "Requirement already satisfied: jinja2 in f:\\processing algorithm\\2025-ml-nlp-research\\deproberta-env\\lib\\site-packages (from torch) (3.1.6)\n",
      "Requirement already satisfied: fsspec in f:\\processing algorithm\\2025-ml-nlp-research\\deproberta-env\\lib\\site-packages (from torch) (2025.9.0)\n",
      "Requirement already satisfied: sympy==1.13.1 in f:\\processing algorithm\\2025-ml-nlp-research\\deproberta-env\\lib\\site-packages (from torch) (1.13.1)\n",
      "Requirement already satisfied: mpmath<1.4,>=1.1.0 in f:\\processing algorithm\\2025-ml-nlp-research\\deproberta-env\\lib\\site-packages (from sympy==1.13.1->torch) (1.3.0)\n",
      "Requirement already satisfied: numpy in f:\\processing algorithm\\2025-ml-nlp-research\\deproberta-env\\lib\\site-packages (from torchvision) (2.3.3)\n",
      "Requirement already satisfied: pillow!=8.3.*,>=5.3.0 in f:\\processing algorithm\\2025-ml-nlp-research\\deproberta-env\\lib\\site-packages (from torchvision) (11.3.0)\n",
      "Requirement already satisfied: MarkupSafe>=2.0 in f:\\processing algorithm\\2025-ml-nlp-research\\deproberta-env\\lib\\site-packages (from jinja2->torch) (2.1.5)\n",
      "Requirement already satisfied: transformers in f:\\processing algorithm\\2025-ml-nlp-research\\deproberta-env\\lib\\site-packages (4.57.1)\n",
      "Collecting sentencepiece\n",
      "  Downloading sentencepiece-0.2.1-cp311-cp311-win_amd64.whl.metadata (10 kB)\n",
      "Requirement already satisfied: filelock in f:\\processing algorithm\\2025-ml-nlp-research\\deproberta-env\\lib\\site-packages (from transformers) (3.19.1)\n",
      "Requirement already satisfied: huggingface-hub<1.0,>=0.34.0 in f:\\processing algorithm\\2025-ml-nlp-research\\deproberta-env\\lib\\site-packages (from transformers) (0.35.3)\n",
      "Requirement already satisfied: numpy>=1.17 in f:\\processing algorithm\\2025-ml-nlp-research\\deproberta-env\\lib\\site-packages (from transformers) (2.3.3)\n",
      "Requirement already satisfied: packaging>=20.0 in f:\\processing algorithm\\2025-ml-nlp-research\\deproberta-env\\lib\\site-packages (from transformers) (25.0)\n",
      "Requirement already satisfied: pyyaml>=5.1 in f:\\processing algorithm\\2025-ml-nlp-research\\deproberta-env\\lib\\site-packages (from transformers) (6.0.3)\n",
      "Requirement already satisfied: regex!=2019.12.17 in f:\\processing algorithm\\2025-ml-nlp-research\\deproberta-env\\lib\\site-packages (from transformers) (2025.10.23)\n",
      "Requirement already satisfied: requests in f:\\processing algorithm\\2025-ml-nlp-research\\deproberta-env\\lib\\site-packages (from transformers) (2.32.5)\n",
      "Requirement already satisfied: tokenizers<=0.23.0,>=0.22.0 in f:\\processing algorithm\\2025-ml-nlp-research\\deproberta-env\\lib\\site-packages (from transformers) (0.22.1)\n",
      "Requirement already satisfied: safetensors>=0.4.3 in f:\\processing algorithm\\2025-ml-nlp-research\\deproberta-env\\lib\\site-packages (from transformers) (0.6.2)\n",
      "Requirement already satisfied: tqdm>=4.27 in f:\\processing algorithm\\2025-ml-nlp-research\\deproberta-env\\lib\\site-packages (from transformers) (4.67.1)\n",
      "Requirement already satisfied: fsspec>=2023.5.0 in f:\\processing algorithm\\2025-ml-nlp-research\\deproberta-env\\lib\\site-packages (from huggingface-hub<1.0,>=0.34.0->transformers) (2025.9.0)\n",
      "Requirement already satisfied: typing-extensions>=3.7.4.3 in f:\\processing algorithm\\2025-ml-nlp-research\\deproberta-env\\lib\\site-packages (from huggingface-hub<1.0,>=0.34.0->transformers) (4.15.0)\n",
      "Requirement already satisfied: colorama in f:\\processing algorithm\\2025-ml-nlp-research\\deproberta-env\\lib\\site-packages (from tqdm>=4.27->transformers) (0.4.6)\n",
      "Requirement already satisfied: charset_normalizer<4,>=2 in f:\\processing algorithm\\2025-ml-nlp-research\\deproberta-env\\lib\\site-packages (from requests->transformers) (3.4.4)\n",
      "Requirement already satisfied: idna<4,>=2.5 in f:\\processing algorithm\\2025-ml-nlp-research\\deproberta-env\\lib\\site-packages (from requests->transformers) (3.11)\n",
      "Requirement already satisfied: urllib3<3,>=1.21.1 in f:\\processing algorithm\\2025-ml-nlp-research\\deproberta-env\\lib\\site-packages (from requests->transformers) (2.5.0)\n",
      "Requirement already satisfied: certifi>=2017.4.17 in f:\\processing algorithm\\2025-ml-nlp-research\\deproberta-env\\lib\\site-packages (from requests->transformers) (2025.10.5)\n",
      "Downloading sentencepiece-0.2.1-cp311-cp311-win_amd64.whl (1.1 MB)\n",
      "   ---------------------------------------- 0.0/1.1 MB ? eta -:--:--\n",
      "   ---------------------------------------- 1.1/1.1 MB 25.6 MB/s  0:00:00\n",
      "Installing collected packages: sentencepiece\n",
      "Successfully installed sentencepiece-0.2.1\n"
     ]
    }
   ],
   "source": [
    "!pip install torch torchvision torchaudio --index-url https://download.pytorch.org/whl/cu121\n",
    "!pip install transformers sentencepiece"
   ]
  },
  {
   "cell_type": "code",
   "execution_count": 8,
   "id": "10ed9d93-b902-4ed9-958e-44c9c82b780b",
   "metadata": {},
   "outputs": [
    {
     "name": "stdout",
     "output_type": "stream",
     "text": [
      "It's working (i think)\n"
     ]
    }
   ],
   "source": [
    "from transformers import AutoTokenizer, AutoModelForSequenceClassification\n",
    "import torch\n",
    "\n",
    "model_name = \"rafalposwiata/deproberta-large-depression\"\n",
    "tokenizer = AutoTokenizer.from_pretrained(model_name)\n",
    "model = AutoModelForSequenceClassification.from_pretrained(model_name)\n",
    "\n",
    "device = torch.device(\"cuda\")\n",
    "model.to(device)\n",
    "model.eval()\n",
    "print(\"It's working (i think)\")"
   ]
  },
  {
   "cell_type": "raw",
   "id": "b73aebce-38ae-4080-aa06-d48f78a7083b",
   "metadata": {},
   "source": [
    "Classifer sample is here: "
   ]
  },
  {
   "cell_type": "code",
   "execution_count": 16,
   "id": "206e6300-56ec-4af6-8c26-14bd1299ef94",
   "metadata": {},
   "outputs": [
    {
     "name": "stdout",
     "output_type": "stream",
     "text": [
      "Input: I don't think that its possible for this to get any worse.\n"
     ]
    },
    {
     "ename": "IndexError",
     "evalue": "list index out of range",
     "output_type": "error",
     "traceback": [
      "\u001b[31m---------------------------------------------------------------------------\u001b[39m",
      "\u001b[31mIndexError\u001b[39m                                Traceback (most recent call last)",
      "\u001b[36mCell\u001b[39m\u001b[36m \u001b[39m\u001b[32mIn[16]\u001b[39m\u001b[32m, line 17\u001b[39m\n\u001b[32m     14\u001b[39m labels = [\u001b[33m\"\u001b[39m\u001b[33mnot depressed\u001b[39m\u001b[33m\"\u001b[39m, \u001b[33m\"\u001b[39m\u001b[33mdepressed\u001b[39m\u001b[33m\"\u001b[39m]\n\u001b[32m     16\u001b[39m \u001b[38;5;28mprint\u001b[39m(\u001b[33mf\u001b[39m\u001b[33m\"\u001b[39m\u001b[33mInput: \u001b[39m\u001b[38;5;132;01m{\u001b[39;00mtext\u001b[38;5;132;01m}\u001b[39;00m\u001b[33m\"\u001b[39m)\n\u001b[32m---> \u001b[39m\u001b[32m17\u001b[39m \u001b[38;5;28mprint\u001b[39m(\u001b[33mf\u001b[39m\u001b[33m\"\u001b[39m\u001b[33mPrediction: \u001b[39m\u001b[38;5;132;01m{\u001b[39;00m\u001b[43mlabels\u001b[49m\u001b[43m[\u001b[49m\u001b[43mpredicted_class\u001b[49m\u001b[43m]\u001b[49m\u001b[38;5;132;01m}\u001b[39;00m\u001b[33m\"\u001b[39m)\n\u001b[32m     18\u001b[39m \u001b[38;5;28mprint\u001b[39m(\u001b[33mf\u001b[39m\u001b[33m\"\u001b[39m\u001b[33mConfidence: \u001b[39m\u001b[38;5;132;01m{\u001b[39;00mprobs[\u001b[32m0\u001b[39m][predicted_class].item()\u001b[38;5;132;01m:\u001b[39;00m\u001b[33m.3f\u001b[39m\u001b[38;5;132;01m}\u001b[39;00m\u001b[33m\"\u001b[39m)\n",
      "\u001b[31mIndexError\u001b[39m: list index out of range"
     ]
    }
   ],
   "source": [
    "# just an example\n",
    "text = \"I don't think that its possible for this to get any worse.\"\n",
    "\n",
    "# tokenize and prepare input\n",
    "inputs = tokenizer(text, return_tensors=\"pt\", truncation=True, padding=True).to(device)\n",
    "\n",
    "# Run inference (no gradients i'll just add that later)\n",
    "with torch.no_grad():\n",
    "    outputs = model(**inputs)\n",
    "    logits = outputs.logits\n",
    "    probs = torch.nn.functional.softmax(logits, dim=1)\n",
    "    predicted_class = torch.argmax(probs, dim=1).item()\n",
    "\n",
    "labels = [\"not depressed\", \"depressed\"]\n",
    "\n",
    "print(f\"Input: {text}\")\n",
    "print(f\"Prediction: {labels[predicted_class]}\")\n",
    "print(f\"Confidence: {probs[0][predicted_class].item():.3f}\")\n"
   ]
  },
  {
   "cell_type": "markdown",
   "id": "5d4470e9-a29c-49c4-a7e0-35e3d8e0c3e3",
   "metadata": {},
   "source": [
    "### Left that bug in there because I found that there are a couple of issues. I think this is happening because it can have 3 labels (depressed, not depressed or unknown)"
   ]
  },
  {
   "cell_type": "code",
   "execution_count": 26,
   "id": "ac0dd4a0-f028-42f6-a2b9-3eea4ca91290",
   "metadata": {},
   "outputs": [
    {
     "name": "stdout",
     "output_type": "stream",
     "text": [
      "Input: \n",
      "\n",
      "And because I had such a wonderful Christmas as home I felt it would be a good last memory for my family  \n",
      "\n",
      "If I hadn’t called my friend I most likely would have had more than 6 \n",
      "\n",
      "But he came over and he brought the paramedics with him\n",
      "\n",
      "Prediction: moderate\n",
      "Confidence: 0.748\n"
     ]
    }
   ],
   "source": [
    "text = \"\"\"\n",
    "\n",
    "And because I had such a wonderful Christmas as home I felt it would be a good last memory for my family  \n",
    "\n",
    "If I hadn’t called my friend I most likely would have had more than 6 \n",
    "\n",
    "But he came over and he brought the paramedics with him\n",
    "\"\"\" # I pulled this from a random line in the data from the suicide 2019.\n",
    "\n",
    "# Tokenize input\n",
    "inputs = tokenizer(text, return_tensors=\"pt\", truncation=True, padding=True).to(device)\n",
    "\n",
    "# Predict\n",
    "with torch.no_grad():\n",
    "    outputs = model(**inputs)\n",
    "    logits = outputs.logits\n",
    "    probs = torch.nn.functional.softmax(logits, dim=1)\n",
    "    predicted_class = torch.argmax(probs, dim=1).item()\n",
    "\n",
    "# Use model’s built-in label map\n",
    "id2label = model.config.id2label\n",
    "label_name = id2label[predicted_class]\n",
    "\n",
    "print(f\"Input: {text}\")\n",
    "print(f\"Prediction: {label_name}\")\n",
    "print(f\"Confidence: {probs[0][predicted_class].item():.3f}\")\n",
    "\n",
    "# this should have all 3\n"
   ]
  },
  {
   "cell_type": "code",
   "execution_count": null,
   "id": "2826365f-a998-4920-8df5-e44faf6df786",
   "metadata": {},
   "outputs": [],
   "source": []
  }
 ],
 "metadata": {
  "kernelspec": {
   "display_name": "Python 3 (ipykernel)",
   "language": "python",
   "name": "python3"
  },
  "language_info": {
   "codemirror_mode": {
    "name": "ipython",
    "version": 3
   },
   "file_extension": ".py",
   "mimetype": "text/x-python",
   "name": "python",
   "nbconvert_exporter": "python",
   "pygments_lexer": "ipython3",
   "version": "3.11.9"
  }
 },
 "nbformat": 4,
 "nbformat_minor": 5
}
