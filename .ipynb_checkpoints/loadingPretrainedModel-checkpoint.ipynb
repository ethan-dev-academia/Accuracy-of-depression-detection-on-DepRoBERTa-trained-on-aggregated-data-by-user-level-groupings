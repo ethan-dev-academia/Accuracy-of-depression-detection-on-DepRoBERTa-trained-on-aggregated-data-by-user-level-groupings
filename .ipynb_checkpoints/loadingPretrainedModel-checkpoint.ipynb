{
 "cells": [
  {
   "cell_type": "code",
   "execution_count": 1,
   "id": "541e4f7c-2d3c-4cd0-a998-cd6f246ece24",
   "metadata": {
    "collapsed": true,
    "jupyter": {
     "outputs_hidden": true
    }
   },
   "outputs": [
    {
     "name": "stdout",
     "output_type": "stream",
     "text": [
      "Looking in indexes: https://download.pytorch.org/whl/cu121\n",
      "Requirement already satisfied: torch in f:\\processing algorithm\\2025-ml-nlp-research\\deproberta-env\\lib\\site-packages (2.6.0+cu124)\n",
      "Requirement already satisfied: torchvision in f:\\processing algorithm\\2025-ml-nlp-research\\deproberta-env\\lib\\site-packages (0.21.0+cu124)\n",
      "Requirement already satisfied: torchaudio in f:\\processing algorithm\\2025-ml-nlp-research\\deproberta-env\\lib\\site-packages (2.6.0+cu124)\n",
      "Requirement already satisfied: filelock in f:\\processing algorithm\\2025-ml-nlp-research\\deproberta-env\\lib\\site-packages (from torch) (3.19.1)\n",
      "Requirement already satisfied: typing-extensions>=4.10.0 in f:\\processing algorithm\\2025-ml-nlp-research\\deproberta-env\\lib\\site-packages (from torch) (4.15.0)\n",
      "Requirement already satisfied: networkx in f:\\processing algorithm\\2025-ml-nlp-research\\deproberta-env\\lib\\site-packages (from torch) (3.5)\n",
      "Requirement already satisfied: jinja2 in f:\\processing algorithm\\2025-ml-nlp-research\\deproberta-env\\lib\\site-packages (from torch) (3.1.6)\n",
      "Requirement already satisfied: fsspec in f:\\processing algorithm\\2025-ml-nlp-research\\deproberta-env\\lib\\site-packages (from torch) (2025.9.0)\n",
      "Requirement already satisfied: sympy==1.13.1 in f:\\processing algorithm\\2025-ml-nlp-research\\deproberta-env\\lib\\site-packages (from torch) (1.13.1)\n",
      "Requirement already satisfied: mpmath<1.4,>=1.1.0 in f:\\processing algorithm\\2025-ml-nlp-research\\deproberta-env\\lib\\site-packages (from sympy==1.13.1->torch) (1.3.0)\n",
      "Requirement already satisfied: numpy in f:\\processing algorithm\\2025-ml-nlp-research\\deproberta-env\\lib\\site-packages (from torchvision) (2.3.3)\n",
      "Requirement already satisfied: pillow!=8.3.*,>=5.3.0 in f:\\processing algorithm\\2025-ml-nlp-research\\deproberta-env\\lib\\site-packages (from torchvision) (11.3.0)\n",
      "Requirement already satisfied: MarkupSafe>=2.0 in f:\\processing algorithm\\2025-ml-nlp-research\\deproberta-env\\lib\\site-packages (from jinja2->torch) (2.1.5)\n",
      "Requirement already satisfied: transformers in f:\\processing algorithm\\2025-ml-nlp-research\\deproberta-env\\lib\\site-packages (4.57.1)\n",
      "Collecting accelerate\n",
      "  Downloading accelerate-1.11.0-py3-none-any.whl.metadata (19 kB)\n",
      "Requirement already satisfied: filelock in f:\\processing algorithm\\2025-ml-nlp-research\\deproberta-env\\lib\\site-packages (from transformers) (3.19.1)\n",
      "Requirement already satisfied: huggingface-hub<1.0,>=0.34.0 in f:\\processing algorithm\\2025-ml-nlp-research\\deproberta-env\\lib\\site-packages (from transformers) (0.35.3)\n",
      "Requirement already satisfied: numpy>=1.17 in f:\\processing algorithm\\2025-ml-nlp-research\\deproberta-env\\lib\\site-packages (from transformers) (2.3.3)\n",
      "Requirement already satisfied: packaging>=20.0 in f:\\processing algorithm\\2025-ml-nlp-research\\deproberta-env\\lib\\site-packages (from transformers) (25.0)\n",
      "Requirement already satisfied: pyyaml>=5.1 in f:\\processing algorithm\\2025-ml-nlp-research\\deproberta-env\\lib\\site-packages (from transformers) (6.0.3)\n",
      "Requirement already satisfied: regex!=2019.12.17 in f:\\processing algorithm\\2025-ml-nlp-research\\deproberta-env\\lib\\site-packages (from transformers) (2025.10.23)\n",
      "Requirement already satisfied: requests in f:\\processing algorithm\\2025-ml-nlp-research\\deproberta-env\\lib\\site-packages (from transformers) (2.32.5)\n",
      "Requirement already satisfied: tokenizers<=0.23.0,>=0.22.0 in f:\\processing algorithm\\2025-ml-nlp-research\\deproberta-env\\lib\\site-packages (from transformers) (0.22.1)\n",
      "Requirement already satisfied: safetensors>=0.4.3 in f:\\processing algorithm\\2025-ml-nlp-research\\deproberta-env\\lib\\site-packages (from transformers) (0.6.2)\n",
      "Requirement already satisfied: tqdm>=4.27 in f:\\processing algorithm\\2025-ml-nlp-research\\deproberta-env\\lib\\site-packages (from transformers) (4.67.1)\n",
      "Requirement already satisfied: fsspec>=2023.5.0 in f:\\processing algorithm\\2025-ml-nlp-research\\deproberta-env\\lib\\site-packages (from huggingface-hub<1.0,>=0.34.0->transformers) (2025.9.0)\n",
      "Requirement already satisfied: typing-extensions>=3.7.4.3 in f:\\processing algorithm\\2025-ml-nlp-research\\deproberta-env\\lib\\site-packages (from huggingface-hub<1.0,>=0.34.0->transformers) (4.15.0)\n",
      "Requirement already satisfied: psutil in f:\\processing algorithm\\2025-ml-nlp-research\\deproberta-env\\lib\\site-packages (from accelerate) (7.1.1)\n",
      "Requirement already satisfied: torch>=2.0.0 in f:\\processing algorithm\\2025-ml-nlp-research\\deproberta-env\\lib\\site-packages (from accelerate) (2.6.0+cu124)\n",
      "Requirement already satisfied: networkx in f:\\processing algorithm\\2025-ml-nlp-research\\deproberta-env\\lib\\site-packages (from torch>=2.0.0->accelerate) (3.5)\n",
      "Requirement already satisfied: jinja2 in f:\\processing algorithm\\2025-ml-nlp-research\\deproberta-env\\lib\\site-packages (from torch>=2.0.0->accelerate) (3.1.6)\n",
      "Requirement already satisfied: sympy==1.13.1 in f:\\processing algorithm\\2025-ml-nlp-research\\deproberta-env\\lib\\site-packages (from torch>=2.0.0->accelerate) (1.13.1)\n",
      "Requirement already satisfied: mpmath<1.4,>=1.1.0 in f:\\processing algorithm\\2025-ml-nlp-research\\deproberta-env\\lib\\site-packages (from sympy==1.13.1->torch>=2.0.0->accelerate) (1.3.0)\n",
      "Requirement already satisfied: colorama in f:\\processing algorithm\\2025-ml-nlp-research\\deproberta-env\\lib\\site-packages (from tqdm>=4.27->transformers) (0.4.6)\n",
      "Requirement already satisfied: MarkupSafe>=2.0 in f:\\processing algorithm\\2025-ml-nlp-research\\deproberta-env\\lib\\site-packages (from jinja2->torch>=2.0.0->accelerate) (2.1.5)\n",
      "Requirement already satisfied: charset_normalizer<4,>=2 in f:\\processing algorithm\\2025-ml-nlp-research\\deproberta-env\\lib\\site-packages (from requests->transformers) (3.4.4)\n",
      "Requirement already satisfied: idna<4,>=2.5 in f:\\processing algorithm\\2025-ml-nlp-research\\deproberta-env\\lib\\site-packages (from requests->transformers) (3.11)\n",
      "Requirement already satisfied: urllib3<3,>=1.21.1 in f:\\processing algorithm\\2025-ml-nlp-research\\deproberta-env\\lib\\site-packages (from requests->transformers) (2.5.0)\n",
      "Requirement already satisfied: certifi>=2017.4.17 in f:\\processing algorithm\\2025-ml-nlp-research\\deproberta-env\\lib\\site-packages (from requests->transformers) (2025.10.5)\n",
      "Downloading accelerate-1.11.0-py3-none-any.whl (375 kB)\n",
      "Installing collected packages: accelerate\n",
      "Successfully installed accelerate-1.11.0\n"
     ]
    },
    {
     "name": "stderr",
     "output_type": "stream",
     "text": [
      "\n",
      "[notice] A new release of pip is available: 25.2 -> 25.3\n",
      "[notice] To update, run: python.exe -m pip install --upgrade pip\n"
     ]
    }
   ],
   "source": [
    "!pip install torch torchvision torchaudio --index-url https://download.pytorch.org/whl/cu121\n",
    "!pip install transformers accelerate\n"
   ]
  },
  {
   "cell_type": "code",
   "execution_count": 2,
   "id": "efd5238e-e197-4298-8357-16d9a32f7426",
   "metadata": {
    "collapsed": true,
    "jupyter": {
     "outputs_hidden": true
    },
    "scrolled": true
   },
   "outputs": [
    {
     "name": "stdout",
     "output_type": "stream",
     "text": [
      "2.6.0+cu124\n",
      "CUDA available: True\n"
     ]
    }
   ],
   "source": [
    "import torch\n",
    "print(torch.__version__)\n",
    "print(\"CUDA available:\", torch.cuda.is_available())"
   ]
  },
  {
   "cell_type": "code",
   "execution_count": 4,
   "id": "c108213a-5bd8-47cd-8ac3-3fe160c78271",
   "metadata": {},
   "outputs": [
    {
     "name": "stdout",
     "output_type": "stream",
     "text": [
      "Model loaded successfully on cuda\n"
     ]
    }
   ],
   "source": [
    "from transformers import AutoTokenizer, AutoModelForSequenceClassification\n",
    "import torch\n",
    "\n",
    "model_name = \"rafalposwiata/deproberta-large-depression\"\n",
    "tokenizer = AutoTokenizer.from_pretrained(model_name)\n",
    "model = AutoModelForSequenceClassification.from_pretrained(model_name)\n",
    "device = torch.device(\"cuda\" if torch.cuda.is_available() else \"cpu\")\n",
    "model.to(device)\n",
    "model.eval()\n",
    "\n",
    "print(\"Model loaded successfully on\", device) # just to make sure we have it not on CPU\n"
   ]
  },
  {
   "cell_type": "markdown",
   "id": "1c233a0b-12c3-4a33-b7f4-d57a2872a9f8",
   "metadata": {},
   "source": [
    "### So we can test the model now: \n",
    "I think it should work with this pretrained thing"
   ]
  },
  {
   "cell_type": "code",
   "execution_count": 5,
   "id": "b78c744a-c3b1-4447-a550-917c7a932f4b",
   "metadata": {},
   "outputs": [
    {
     "name": "stdout",
     "output_type": "stream",
     "text": [
      "Input: I can’t get out of bed and everything feels heavy.\n",
      "Prediction: moderate\n",
      "Confidence: 0.513\n"
     ]
    }
   ],
   "source": [
    "text = \"I can’t get out of bed and everything feels heavy.\"\n",
    "\n",
    "# Tokenize input\n",
    "inputs = tokenizer(text, return_tensors=\"pt\", truncation=True, padding=True).to(device)\n",
    "\n",
    "# Predict the thing\n",
    "with torch.no_grad():\n",
    "    outputs = model(**inputs)\n",
    "    logits = outputs.logits\n",
    "    probs = torch.nn.functional.softmax(logits, dim=1)\n",
    "    predicted_idx = torch.argmax(probs, dim=1).item()\n",
    "\n",
    "label = model.config.id2label[predicted_idx]\n",
    "confidence = probs[0][predicted_idx].item()\n",
    "\n",
    "print(f\"Input: {text}\")\n",
    "print(f\"Prediction: {label}\")\n",
    "print(f\"Confidence: {confidence:.3f}\")\n"
   ]
  },
  {
   "cell_type": "markdown",
   "id": "383acb2e-4865-4960-ad32-ffe75aeabe86",
   "metadata": {},
   "source": [
    "So that works and should save me a lot of time. I don't think adding a regression head and retraining would be the play here, but I have it in my notes just in case. That will all go in another folder and I will start from here because I had some issues.\n"
   ]
  },
  {
   "cell_type": "code",
   "execution_count": null,
   "id": "3f51b170-8894-4a80-a8ef-59d7a8326f44",
   "metadata": {},
   "outputs": [],
   "source": []
  }
 ],
 "metadata": {
  "kernelspec": {
   "display_name": "Python 3 (ipykernel)",
   "language": "python",
   "name": "python3"
  },
  "language_info": {
   "codemirror_mode": {
    "name": "ipython",
    "version": 3
   },
   "file_extension": ".py",
   "mimetype": "text/x-python",
   "name": "python",
   "nbconvert_exporter": "python",
   "pygments_lexer": "ipython3",
   "version": "3.11.9"
  }
 },
 "nbformat": 4,
 "nbformat_minor": 5
}
